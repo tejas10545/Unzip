{
  "nbformat": 4,
  "nbformat_minor": 0,
  "metadata": {
    "colab": {
      "name": "SaveToDrive2.ipynb",
      "provenance": [],
      "collapsed_sections": []
    },
    "kernelspec": {
      "name": "python3",
      "display_name": "Python 3"
    },
    "language_info": {
      "name": "python"
    }
  },
  "cells": [
    {
      "cell_type": "code",
      "execution_count": null,
      "metadata": {
        "id": "OOseGFSn5mMg"
      },
      "outputs": [],
      "source": [
        "from google.colab import drive\n",
        "drive.mount('/content/drive')"
      ]
    },
    {
      "cell_type": "code",
      "source": [
        "!unzip '/gdrive/My Drive/file.zip' -d '/gdrive/My Drive/Destination/' "
      ],
      "metadata": {
        "id": "svJRZsMW52IJ"
      },
      "execution_count": null,
      "outputs": []
    }
  ]
}